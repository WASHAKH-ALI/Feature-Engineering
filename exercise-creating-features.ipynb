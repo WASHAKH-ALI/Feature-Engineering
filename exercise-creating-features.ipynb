{
 "cells": [
  {
   "cell_type": "markdown",
   "id": "6ad95853",
   "metadata": {
    "papermill": {
     "duration": 0.006729,
     "end_time": "2022-09-27T15:51:31.259361",
     "exception": false,
     "start_time": "2022-09-27T15:51:31.252632",
     "status": "completed"
    },
    "tags": []
   },
   "source": [
    "**This notebook is an exercise in the [Feature Engineering](https://www.kaggle.com/learn/feature-engineering) course.  You can reference the tutorial at [this link](https://www.kaggle.com/ryanholbrook/creating-features).**\n",
    "\n",
    "---\n"
   ]
  },
  {
   "cell_type": "markdown",
   "id": "98188259",
   "metadata": {
    "papermill": {
     "duration": 0.005084,
     "end_time": "2022-09-27T15:51:31.270088",
     "exception": false,
     "start_time": "2022-09-27T15:51:31.265004",
     "status": "completed"
    },
    "tags": []
   },
   "source": [
    "# Introduction #\n",
    "\n",
    "In this exercise you'll start developing the features you identified in Exercise 2 as having the most potential. As you work through this exercise, you might take a moment to look at the data documentation again and consider whether the features we're creating make sense from a real-world perspective, and whether there are any useful combinations that stand out to you.\n",
    "\n",
    "Run this cell to set everything up!"
   ]
  },
  {
   "cell_type": "code",
   "execution_count": 1,
   "id": "7261a8ec",
   "metadata": {
    "execution": {
     "iopub.execute_input": "2022-09-27T15:51:31.283502Z",
     "iopub.status.busy": "2022-09-27T15:51:31.282804Z",
     "iopub.status.idle": "2022-09-27T15:51:32.633610Z",
     "shell.execute_reply": "2022-09-27T15:51:32.632536Z"
    },
    "papermill": {
     "duration": 1.360855,
     "end_time": "2022-09-27T15:51:32.636541",
     "exception": false,
     "start_time": "2022-09-27T15:51:31.275686",
     "status": "completed"
    },
    "tags": []
   },
   "outputs": [],
   "source": [
    "# Setup feedback system\n",
    "from learntools.core import binder\n",
    "binder.bind(globals())\n",
    "from learntools.feature_engineering_new.ex3 import *\n",
    "\n",
    "import numpy as np\n",
    "import pandas as pd\n",
    "from sklearn.model_selection import cross_val_score\n",
    "from xgboost import XGBRegressor\n",
    "\n",
    "\n",
    "def score_dataset(X, y, model=XGBRegressor()):\n",
    "    # Label encoding for categoricals\n",
    "    for colname in X.select_dtypes([\"category\", \"object\"]):\n",
    "        X[colname], _ = X[colname].factorize()\n",
    "    # Metric for Housing competition is RMSLE (Root Mean Squared Log Error)\n",
    "    score = cross_val_score(\n",
    "        model, X, y, cv=5, scoring=\"neg_mean_squared_log_error\",\n",
    "    )\n",
    "    score = -1 * score.mean()\n",
    "    score = np.sqrt(score)\n",
    "    return score\n",
    "\n",
    "\n",
    "# Prepare data\n",
    "df = pd.read_csv(\"../input/fe-course-data/ames.csv\")\n",
    "X = df.copy()\n",
    "y = X.pop(\"SalePrice\")"
   ]
  },
  {
   "cell_type": "markdown",
   "id": "3133cefd",
   "metadata": {
    "papermill": {
     "duration": 0.005347,
     "end_time": "2022-09-27T15:51:32.647598",
     "exception": false,
     "start_time": "2022-09-27T15:51:32.642251",
     "status": "completed"
    },
    "tags": []
   },
   "source": [
    "-------------------------------------------------------------------------------\n",
    "\n",
    "Let's start with a few mathematical combinations. We'll focus on features describing areas -- having the same units (square-feet) makes it easy to combine them in sensible ways. Since we're using XGBoost (a tree-based model), we'll focus on ratios and sums.\n",
    "\n",
    "# 1) Create Mathematical Transforms\n",
    "\n",
    "Create the following features:\n",
    "\n",
    "- `LivLotRatio`: the ratio of `GrLivArea` to `LotArea`\n",
    "- `Spaciousness`: the sum of `FirstFlrSF` and `SecondFlrSF` divided by `TotRmsAbvGrd`\n",
    "- `TotalOutsideSF`: the sum of `WoodDeckSF`, `OpenPorchSF`, `EnclosedPorch`, `Threeseasonporch`, and `ScreenPorch`"
   ]
  },
  {
   "cell_type": "code",
   "execution_count": 2,
   "id": "734d58b5",
   "metadata": {
    "execution": {
     "iopub.execute_input": "2022-09-27T15:51:32.660617Z",
     "iopub.status.busy": "2022-09-27T15:51:32.660244Z",
     "iopub.status.idle": "2022-09-27T15:51:32.683763Z",
     "shell.execute_reply": "2022-09-27T15:51:32.682836Z"
    },
    "lines_to_next_cell": 0,
    "papermill": {
     "duration": 0.032571,
     "end_time": "2022-09-27T15:51:32.685733",
     "exception": false,
     "start_time": "2022-09-27T15:51:32.653162",
     "status": "completed"
    },
    "tags": []
   },
   "outputs": [
    {
     "data": {
      "application/javascript": [
       "parent.postMessage({\"jupyterEvent\": \"custom.exercise_interaction\", \"data\": {\"outcomeType\": 1, \"valueTowardsCompletion\": 0.2, \"interactionType\": 1, \"questionType\": 2, \"questionId\": \"1_Q1\", \"learnToolsVersion\": \"0.3.4\", \"failureMessage\": \"\", \"exceptionClass\": \"\", \"trace\": \"\"}}, \"*\")"
      ],
      "text/plain": [
       "<IPython.core.display.Javascript object>"
      ]
     },
     "metadata": {},
     "output_type": "display_data"
    },
    {
     "data": {
      "text/markdown": [
       "<span style=\"color:#33cc33\">Correct</span>"
      ],
      "text/plain": [
       "Correct"
      ]
     },
     "metadata": {},
     "output_type": "display_data"
    }
   ],
   "source": [
    "# YOUR CODE HERE\n",
    "X_1 = pd.DataFrame()  # dataframe to hold new features\n",
    "\n",
    "X_1[\"LivLotRatio\"] = df.GrLivArea / df.LotArea\n",
    "X_1[\"Spaciousness\"] = (df.FirstFlrSF + df.SecondFlrSF) / df.TotRmsAbvGrd\n",
    "X_1[\"TotalOutsideSF\"] = df.WoodDeckSF + df.OpenPorchSF + df.EnclosedPorch + df.Threeseasonporch + df.ScreenPorch\n",
    "\n",
    "# Check your answer\n",
    "q_1.check()"
   ]
  },
  {
   "cell_type": "code",
   "execution_count": 3,
   "id": "7a310ebe",
   "metadata": {
    "execution": {
     "iopub.execute_input": "2022-09-27T15:51:32.699262Z",
     "iopub.status.busy": "2022-09-27T15:51:32.698460Z",
     "iopub.status.idle": "2022-09-27T15:51:32.702852Z",
     "shell.execute_reply": "2022-09-27T15:51:32.701922Z"
    },
    "lines_to_next_cell": 0,
    "papermill": {
     "duration": 0.013333,
     "end_time": "2022-09-27T15:51:32.704866",
     "exception": false,
     "start_time": "2022-09-27T15:51:32.691533",
     "status": "completed"
    },
    "tags": []
   },
   "outputs": [],
   "source": [
    "# Lines below will give you a hint or solution code\n",
    "#q_1.hint()\n",
    "#q_1.solution()"
   ]
  },
  {
   "cell_type": "markdown",
   "id": "b09bef1f",
   "metadata": {
    "papermill": {
     "duration": 0.005484,
     "end_time": "2022-09-27T15:51:32.715965",
     "exception": false,
     "start_time": "2022-09-27T15:51:32.710481",
     "status": "completed"
    },
    "tags": []
   },
   "source": [
    "-------------------------------------------------------------------------------\n",
    "\n",
    "If you've discovered an interaction effect between a numeric feature and a categorical feature, you might want to model it explicitly using a one-hot encoding, like so:\n",
    "\n",
    "```\n",
    "# One-hot encode Categorical feature, adding a column prefix \"Cat\"\n",
    "X_new = pd.get_dummies(df.Categorical, prefix=\"Cat\")\n",
    "\n",
    "# Multiply row-by-row\n",
    "X_new = X_new.mul(df.Continuous, axis=0)\n",
    "\n",
    "# Join the new features to the feature set\n",
    "X = X.join(X_new)\n",
    "```\n",
    "\n",
    "# 2) Interaction with a Categorical\n",
    "\n",
    "We discovered an interaction between `BldgType` and `GrLivArea` in Exercise 2. Now create their interaction features."
   ]
  },
  {
   "cell_type": "code",
   "execution_count": 4,
   "id": "fb99bb10",
   "metadata": {
    "execution": {
     "iopub.execute_input": "2022-09-27T15:51:32.729755Z",
     "iopub.status.busy": "2022-09-27T15:51:32.728602Z",
     "iopub.status.idle": "2022-09-27T15:51:32.743848Z",
     "shell.execute_reply": "2022-09-27T15:51:32.742747Z"
    },
    "lines_to_next_cell": 0,
    "papermill": {
     "duration": 0.0244,
     "end_time": "2022-09-27T15:51:32.745972",
     "exception": false,
     "start_time": "2022-09-27T15:51:32.721572",
     "status": "completed"
    },
    "tags": []
   },
   "outputs": [
    {
     "data": {
      "application/javascript": [
       "parent.postMessage({\"jupyterEvent\": \"custom.exercise_interaction\", \"data\": {\"outcomeType\": 1, \"valueTowardsCompletion\": 0.2, \"interactionType\": 1, \"questionType\": 2, \"questionId\": \"2_Q2\", \"learnToolsVersion\": \"0.3.4\", \"failureMessage\": \"\", \"exceptionClass\": \"\", \"trace\": \"\"}}, \"*\")"
      ],
      "text/plain": [
       "<IPython.core.display.Javascript object>"
      ]
     },
     "metadata": {},
     "output_type": "display_data"
    },
    {
     "data": {
      "text/markdown": [
       "<span style=\"color:#33cc33\">Correct</span>"
      ],
      "text/plain": [
       "Correct"
      ]
     },
     "metadata": {},
     "output_type": "display_data"
    }
   ],
   "source": [
    "# YOUR CODE HERE\n",
    "# One-hot encode BldgType. Use `prefix=\"Bldg\"` in `get_dummies`\n",
    "X_2 = pd.get_dummies(df.BldgType, prefix=\"Bldg\") \n",
    "# Multiply\n",
    "X_2 = X_2.mul(df.GrLivArea, axis=0)\n",
    "\n",
    "\n",
    "# Check your answer\n",
    "q_2.check()"
   ]
  },
  {
   "cell_type": "code",
   "execution_count": 5,
   "id": "c7d49452",
   "metadata": {
    "execution": {
     "iopub.execute_input": "2022-09-27T15:51:32.760551Z",
     "iopub.status.busy": "2022-09-27T15:51:32.759785Z",
     "iopub.status.idle": "2022-09-27T15:51:32.764611Z",
     "shell.execute_reply": "2022-09-27T15:51:32.763784Z"
    },
    "lines_to_next_cell": 0,
    "papermill": {
     "duration": 0.014967,
     "end_time": "2022-09-27T15:51:32.766881",
     "exception": false,
     "start_time": "2022-09-27T15:51:32.751914",
     "status": "completed"
    },
    "tags": []
   },
   "outputs": [],
   "source": [
    "# Lines below will give you a hint or solution code\n",
    "#q_2.hint()\n",
    "#q_2.solution()"
   ]
  },
  {
   "cell_type": "markdown",
   "id": "32cb4f00",
   "metadata": {
    "lines_to_next_cell": 0,
    "papermill": {
     "duration": 0.005716,
     "end_time": "2022-09-27T15:51:32.778621",
     "exception": false,
     "start_time": "2022-09-27T15:51:32.772905",
     "status": "completed"
    },
    "tags": []
   },
   "source": [
    "# 3) Count Feature\n",
    "\n",
    "Let's try creating a feature that describes how many kinds of outdoor areas a dwelling has. Create a feature `PorchTypes` that counts how many of the following are greater than 0.0:\n",
    "\n",
    "```\n",
    "WoodDeckSF\n",
    "OpenPorchSF\n",
    "EnclosedPorch\n",
    "Threeseasonporch\n",
    "ScreenPorch\n",
    "```"
   ]
  },
  {
   "cell_type": "code",
   "execution_count": 6,
   "id": "ededd974",
   "metadata": {
    "execution": {
     "iopub.execute_input": "2022-09-27T15:51:32.792915Z",
     "iopub.status.busy": "2022-09-27T15:51:32.792264Z",
     "iopub.status.idle": "2022-09-27T15:51:32.810048Z",
     "shell.execute_reply": "2022-09-27T15:51:32.808981Z"
    },
    "lines_to_next_cell": 0,
    "papermill": {
     "duration": 0.027629,
     "end_time": "2022-09-27T15:51:32.812311",
     "exception": false,
     "start_time": "2022-09-27T15:51:32.784682",
     "status": "completed"
    },
    "tags": []
   },
   "outputs": [
    {
     "data": {
      "application/javascript": [
       "parent.postMessage({\"jupyterEvent\": \"custom.exercise_interaction\", \"data\": {\"outcomeType\": 1, \"valueTowardsCompletion\": 0.2, \"interactionType\": 1, \"questionType\": 2, \"questionId\": \"3_Q3\", \"learnToolsVersion\": \"0.3.4\", \"failureMessage\": \"\", \"exceptionClass\": \"\", \"trace\": \"\"}}, \"*\")"
      ],
      "text/plain": [
       "<IPython.core.display.Javascript object>"
      ]
     },
     "metadata": {},
     "output_type": "display_data"
    },
    {
     "data": {
      "text/markdown": [
       "<span style=\"color:#33cc33\">Correct</span>"
      ],
      "text/plain": [
       "Correct"
      ]
     },
     "metadata": {},
     "output_type": "display_data"
    }
   ],
   "source": [
    "X_3 = pd.DataFrame()\n",
    "\n",
    "X_3[\"PorchTypes\"] = df[[\n",
    "    \"WoodDeckSF\",\n",
    "    \"OpenPorchSF\",\n",
    "    \"EnclosedPorch\",\n",
    "    \"Threeseasonporch\",\n",
    "    \"ScreenPorch\",\n",
    "]].gt(0.0).sum(axis=1)\n",
    "\n",
    "\n",
    "# Check your answer\n",
    "q_3.check()"
   ]
  },
  {
   "cell_type": "code",
   "execution_count": 7,
   "id": "50ee5768",
   "metadata": {
    "execution": {
     "iopub.execute_input": "2022-09-27T15:51:32.827820Z",
     "iopub.status.busy": "2022-09-27T15:51:32.827181Z",
     "iopub.status.idle": "2022-09-27T15:51:32.831573Z",
     "shell.execute_reply": "2022-09-27T15:51:32.830692Z"
    },
    "lines_to_next_cell": 0,
    "papermill": {
     "duration": 0.015288,
     "end_time": "2022-09-27T15:51:32.833717",
     "exception": false,
     "start_time": "2022-09-27T15:51:32.818429",
     "status": "completed"
    },
    "tags": []
   },
   "outputs": [],
   "source": [
    "# Lines below will give you a hint or solution code\n",
    "#q_3.hint()\n",
    "#q_3.solution()"
   ]
  },
  {
   "cell_type": "markdown",
   "id": "558ec9f8",
   "metadata": {
    "papermill": {
     "duration": 0.00573,
     "end_time": "2022-09-27T15:51:32.845478",
     "exception": false,
     "start_time": "2022-09-27T15:51:32.839748",
     "status": "completed"
    },
    "tags": []
   },
   "source": [
    "# 4) Break Down a Categorical Feature\n",
    "\n",
    "`MSSubClass` describes the type of a dwelling:"
   ]
  },
  {
   "cell_type": "code",
   "execution_count": 8,
   "id": "89e4cc42",
   "metadata": {
    "execution": {
     "iopub.execute_input": "2022-09-27T15:51:32.859810Z",
     "iopub.status.busy": "2022-09-27T15:51:32.859185Z",
     "iopub.status.idle": "2022-09-27T15:51:32.867036Z",
     "shell.execute_reply": "2022-09-27T15:51:32.865935Z"
    },
    "papermill": {
     "duration": 0.017594,
     "end_time": "2022-09-27T15:51:32.869142",
     "exception": false,
     "start_time": "2022-09-27T15:51:32.851548",
     "status": "completed"
    },
    "tags": []
   },
   "outputs": [
    {
     "data": {
      "text/plain": [
       "array(['One_Story_1946_and_Newer_All_Styles', 'Two_Story_1946_and_Newer',\n",
       "       'One_Story_PUD_1946_and_Newer',\n",
       "       'One_and_Half_Story_Finished_All_Ages', 'Split_Foyer',\n",
       "       'Two_Story_PUD_1946_and_Newer', 'Split_or_Multilevel',\n",
       "       'One_Story_1945_and_Older', 'Duplex_All_Styles_and_Ages',\n",
       "       'Two_Family_conversion_All_Styles_and_Ages',\n",
       "       'One_and_Half_Story_Unfinished_All_Ages',\n",
       "       'Two_Story_1945_and_Older', 'Two_and_Half_Story_All_Ages',\n",
       "       'One_Story_with_Finished_Attic_All_Ages',\n",
       "       'PUD_Multilevel_Split_Level_Foyer',\n",
       "       'One_and_Half_Story_PUD_All_Ages'], dtype=object)"
      ]
     },
     "execution_count": 8,
     "metadata": {},
     "output_type": "execute_result"
    }
   ],
   "source": [
    "df.MSSubClass.unique()"
   ]
  },
  {
   "cell_type": "markdown",
   "id": "255467ab",
   "metadata": {
    "papermill": {
     "duration": 0.005871,
     "end_time": "2022-09-27T15:51:32.881325",
     "exception": false,
     "start_time": "2022-09-27T15:51:32.875454",
     "status": "completed"
    },
    "tags": []
   },
   "source": [
    "You can see that there is a more general categorization described (roughly) by the first word of each category. Create a feature containing only these first words by splitting `MSSubClass` at the first underscore `_`. (Hint: In the `split` method use an argument `n=1`.)"
   ]
  },
  {
   "cell_type": "code",
   "execution_count": 9,
   "id": "e94b61ba",
   "metadata": {
    "execution": {
     "iopub.execute_input": "2022-09-27T15:51:32.895766Z",
     "iopub.status.busy": "2022-09-27T15:51:32.895093Z",
     "iopub.status.idle": "2022-09-27T15:51:32.920139Z",
     "shell.execute_reply": "2022-09-27T15:51:32.918898Z"
    },
    "lines_to_next_cell": 0,
    "papermill": {
     "duration": 0.034958,
     "end_time": "2022-09-27T15:51:32.922351",
     "exception": false,
     "start_time": "2022-09-27T15:51:32.887393",
     "status": "completed"
    },
    "tags": []
   },
   "outputs": [
    {
     "data": {
      "application/javascript": [
       "parent.postMessage({\"jupyterEvent\": \"custom.exercise_interaction\", \"data\": {\"outcomeType\": 1, \"valueTowardsCompletion\": 0.2, \"interactionType\": 1, \"questionType\": 2, \"questionId\": \"4_Q4\", \"learnToolsVersion\": \"0.3.4\", \"failureMessage\": \"\", \"exceptionClass\": \"\", \"trace\": \"\"}}, \"*\")"
      ],
      "text/plain": [
       "<IPython.core.display.Javascript object>"
      ]
     },
     "metadata": {},
     "output_type": "display_data"
    },
    {
     "data": {
      "text/markdown": [
       "<span style=\"color:#33cc33\">Correct</span>"
      ],
      "text/plain": [
       "Correct"
      ]
     },
     "metadata": {},
     "output_type": "display_data"
    }
   ],
   "source": [
    "X_4 = pd.DataFrame()\n",
    "\n",
    "X_4 = pd.DataFrame()\n",
    "\n",
    "X_4[\"MSClass\"] = df.MSSubClass.str.split(\"_\", n=1, expand=True)[0]\n",
    "# Check your answer\n",
    "q_4.check()"
   ]
  },
  {
   "cell_type": "code",
   "execution_count": 10,
   "id": "967c28b3",
   "metadata": {
    "execution": {
     "iopub.execute_input": "2022-09-27T15:51:32.937694Z",
     "iopub.status.busy": "2022-09-27T15:51:32.936780Z",
     "iopub.status.idle": "2022-09-27T15:51:32.941578Z",
     "shell.execute_reply": "2022-09-27T15:51:32.940597Z"
    },
    "lines_to_next_cell": 0,
    "papermill": {
     "duration": 0.014933,
     "end_time": "2022-09-27T15:51:32.943823",
     "exception": false,
     "start_time": "2022-09-27T15:51:32.928890",
     "status": "completed"
    },
    "tags": []
   },
   "outputs": [],
   "source": [
    "# Lines below will give you a hint or solution code\n",
    "#q_4.hint()\n",
    "#q_4.solution()"
   ]
  },
  {
   "cell_type": "markdown",
   "id": "99b7f17f",
   "metadata": {
    "papermill": {
     "duration": 0.006247,
     "end_time": "2022-09-27T15:51:32.956661",
     "exception": false,
     "start_time": "2022-09-27T15:51:32.950414",
     "status": "completed"
    },
    "tags": []
   },
   "source": [
    "# 5) Use a Grouped Transform\n",
    "\n",
    "The value of a home often depends on how it compares to typical homes in its neighborhood. Create a feature `MedNhbdArea` that describes the *median* of `GrLivArea` grouped on `Neighborhood`."
   ]
  },
  {
   "cell_type": "code",
   "execution_count": 11,
   "id": "44e0b10d",
   "metadata": {
    "execution": {
     "iopub.execute_input": "2022-09-27T15:51:32.971992Z",
     "iopub.status.busy": "2022-09-27T15:51:32.971580Z",
     "iopub.status.idle": "2022-09-27T15:51:32.992232Z",
     "shell.execute_reply": "2022-09-27T15:51:32.991089Z"
    },
    "lines_to_next_cell": 0,
    "papermill": {
     "duration": 0.031099,
     "end_time": "2022-09-27T15:51:32.994307",
     "exception": false,
     "start_time": "2022-09-27T15:51:32.963208",
     "status": "completed"
    },
    "tags": []
   },
   "outputs": [
    {
     "data": {
      "application/javascript": [
       "parent.postMessage({\"jupyterEvent\": \"custom.exercise_interaction\", \"data\": {\"outcomeType\": 1, \"valueTowardsCompletion\": 0.2, \"interactionType\": 1, \"questionType\": 2, \"questionId\": \"5_Q5\", \"learnToolsVersion\": \"0.3.4\", \"failureMessage\": \"\", \"exceptionClass\": \"\", \"trace\": \"\"}}, \"*\")"
      ],
      "text/plain": [
       "<IPython.core.display.Javascript object>"
      ]
     },
     "metadata": {},
     "output_type": "display_data"
    },
    {
     "data": {
      "text/markdown": [
       "<span style=\"color:#33cc33\">Correct</span>"
      ],
      "text/plain": [
       "Correct"
      ]
     },
     "metadata": {},
     "output_type": "display_data"
    }
   ],
   "source": [
    "X_5 = pd.DataFrame()\n",
    "\n",
    "X_5 = pd.DataFrame()\n",
    "\n",
    "X_5[\"MedNhbdArea\"] = df.groupby(\"Neighborhood\")[\"GrLivArea\"].transform(\"median\")\n",
    "# Check your answer\n",
    "q_5.check()"
   ]
  },
  {
   "cell_type": "code",
   "execution_count": 12,
   "id": "77b02d02",
   "metadata": {
    "execution": {
     "iopub.execute_input": "2022-09-27T15:51:33.009961Z",
     "iopub.status.busy": "2022-09-27T15:51:33.008749Z",
     "iopub.status.idle": "2022-09-27T15:51:33.013741Z",
     "shell.execute_reply": "2022-09-27T15:51:33.012823Z"
    },
    "lines_to_next_cell": 0,
    "papermill": {
     "duration": 0.014914,
     "end_time": "2022-09-27T15:51:33.015814",
     "exception": false,
     "start_time": "2022-09-27T15:51:33.000900",
     "status": "completed"
    },
    "tags": []
   },
   "outputs": [],
   "source": [
    "# Lines below will give you a hint or solution code\n",
    "#q_5.hint()\n",
    "#q_5.solution()"
   ]
  },
  {
   "cell_type": "markdown",
   "id": "7cd5c0c1",
   "metadata": {
    "papermill": {
     "duration": 0.006479,
     "end_time": "2022-09-27T15:51:33.029041",
     "exception": false,
     "start_time": "2022-09-27T15:51:33.022562",
     "status": "completed"
    },
    "tags": []
   },
   "source": [
    "Now you've made your first new feature set! If you like, you can run the cell below to score the model with all of your new features added:"
   ]
  },
  {
   "cell_type": "code",
   "execution_count": 13,
   "id": "69e0cc9d",
   "metadata": {
    "execution": {
     "iopub.execute_input": "2022-09-27T15:51:33.044332Z",
     "iopub.status.busy": "2022-09-27T15:51:33.043864Z",
     "iopub.status.idle": "2022-09-27T15:51:37.910393Z",
     "shell.execute_reply": "2022-09-27T15:51:37.909433Z"
    },
    "papermill": {
     "duration": 4.877301,
     "end_time": "2022-09-27T15:51:37.913028",
     "exception": false,
     "start_time": "2022-09-27T15:51:33.035727",
     "status": "completed"
    },
    "tags": []
   },
   "outputs": [
    {
     "data": {
      "text/plain": [
       "0.13847331710099203"
      ]
     },
     "execution_count": 13,
     "metadata": {},
     "output_type": "execute_result"
    }
   ],
   "source": [
    "X_new = X.join([X_1, X_2, X_3, X_4, X_5])\n",
    "score_dataset(X_new, y)"
   ]
  },
  {
   "cell_type": "markdown",
   "id": "9e72ac61",
   "metadata": {
    "papermill": {
     "duration": 0.00687,
     "end_time": "2022-09-27T15:51:37.928095",
     "exception": false,
     "start_time": "2022-09-27T15:51:37.921225",
     "status": "completed"
    },
    "tags": []
   },
   "source": [
    "# Keep Going #\n",
    "\n",
    "[**Untangle spatial relationships**](https://www.kaggle.com/ryanholbrook/clustering-with-k-means) by adding cluster labels to your dataset."
   ]
  },
  {
   "cell_type": "markdown",
   "id": "25198a96",
   "metadata": {
    "papermill": {
     "duration": 0.007141,
     "end_time": "2022-09-27T15:51:37.942176",
     "exception": false,
     "start_time": "2022-09-27T15:51:37.935035",
     "status": "completed"
    },
    "tags": []
   },
   "source": [
    "---\n",
    "\n",
    "\n",
    "\n",
    "\n",
    "*Have questions or comments? Visit the [course discussion forum](https://www.kaggle.com/learn/feature-engineering/discussion) to chat with other learners.*"
   ]
  }
 ],
 "metadata": {
  "kernelspec": {
   "display_name": "Python 3",
   "language": "python",
   "name": "python3"
  },
  "language_info": {
   "codemirror_mode": {
    "name": "ipython",
    "version": 3
   },
   "file_extension": ".py",
   "mimetype": "text/x-python",
   "name": "python",
   "nbconvert_exporter": "python",
   "pygments_lexer": "ipython3",
   "version": "3.7.12"
  },
  "papermill": {
   "default_parameters": {},
   "duration": 16.314758,
   "end_time": "2022-09-27T15:51:38.672157",
   "environment_variables": {},
   "exception": null,
   "input_path": "__notebook__.ipynb",
   "output_path": "__notebook__.ipynb",
   "parameters": {},
   "start_time": "2022-09-27T15:51:22.357399",
   "version": "2.3.4"
  }
 },
 "nbformat": 4,
 "nbformat_minor": 5
}
